{
 "cells": [
  {
   "cell_type": "code",
   "execution_count": null,
   "id": "38e040fc",
   "metadata": {},
   "outputs": [
    {
     "name": "stdout",
     "output_type": "stream",
     "text": [
      "✅ Saved 50 stocks to C:\\Users\\vitor\\OneDrive\\Desktop\\stock-forecast\\src\\assets\\data\\stocksList.json\n"
     ]
    }
   ],
   "source": [
    "import finnhub\n",
    "import json\n",
    "\n",
    "# Sua chave da API Finnhub\n",
    "api_key = \"\"\n",
    "client = finnhub.Client(api_key=api_key)\n",
    "\n",
    "# Buscar todos os símbolos listados nos EUA\n",
    "all_symbols = client.stock_symbols('US')\n",
    "\n",
    "# Filtrar apenas ações comuns (Common Stock)\n",
    "filtered_stocks = [\n",
    "    {\n",
    "        \"symbol\": stock['symbol'],\n",
    "        \"displaySymbol\": stock['displaySymbol'],\n",
    "        \"description\": stock['description'],\n",
    "        \"type\": stock['type'],\n",
    "        \"currency\": stock['currency']\n",
    "    }\n",
    "    for stock in all_symbols\n",
    "    if stock['type'] == 'Common Stock'\n",
    "]\n",
    "\n",
    "# Limitar para as 50 primeiras ações\n",
    "top_50_stocks = filtered_stocks[:50]\n",
    "\n",
    "# Caminho ajustado conforme solicitado\n",
    "save_path = r\"\"\n",
    "\n",
    "# Salvar os dados no arquivo JSON\n",
    "with open(save_path, 'w', encoding='utf-8') as f:\n",
    "    json.dump(top_50_stocks, f, indent=2)\n",
    "\n",
    "print(f\"✅ Saved {len(top_50_stocks)} stocks to {save_path}\")\n"
   ]
  }
 ],
 "metadata": {
  "kernelspec": {
   "display_name": "Python 3",
   "language": "python",
   "name": "python3"
  },
  "language_info": {
   "codemirror_mode": {
    "name": "ipython",
    "version": 3
   },
   "file_extension": ".py",
   "mimetype": "text/x-python",
   "name": "python",
   "nbconvert_exporter": "python",
   "pygments_lexer": "ipython3",
   "version": "3.11.3"
  }
 },
 "nbformat": 4,
 "nbformat_minor": 5
}
